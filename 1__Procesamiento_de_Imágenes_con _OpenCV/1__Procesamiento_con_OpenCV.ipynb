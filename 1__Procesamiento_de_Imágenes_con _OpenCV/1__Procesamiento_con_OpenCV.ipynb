{
  "cells": [
    {
      "cell_type": "markdown",
      "metadata": {
        "id": "2TZ1xVWVxm0F"
      },
      "source": [
        "# Curso Computer Vision\n",
        "\n",
        "<img src=\"https://yaelmanuel.com/wp-content/uploads/2021/12/platzi-banner-logo-matematicas.png\" width=\"500px\">\n",
        "\n",
        "---"
      ]
    },
    {
      "cell_type": "markdown",
      "metadata": {
        "id": "JqEeU4HFxm0Q"
      },
      "source": [
        "## 1) Introducción a OpenCV para Análisis de CCTV\n",
        "\n",
        "**Objetivo:**  \n",
        "Configurar OpenCV y aprender a cargar y visualizar imágenes y video provenientes de sistemas CCTV."
      ]
    },
    {
      "cell_type": "code",
      "execution_count": 16,
      "metadata": {
        "id": "QwcONZc2xm0S"
      },
      "outputs": [],
      "source": [
        "#!pip install opencv-python matplotlib"
      ]
    },
    {
      "cell_type": "markdown",
      "source": [
        "# Nueva sección"
      ],
      "metadata": {
        "id": "R7dYN3Rb4zBY"
      }
    },
    {
      "cell_type": "markdown",
      "source": [
        "# Nueva sección"
      ],
      "metadata": {
        "id": "eynY0Akb4zoy"
      }
    },
    {
      "cell_type": "code",
      "execution_count": 22,
      "metadata": {
        "id": "svtivGPoxm0X"
      },
      "outputs": [],
      "source": [
        "import cv2\n",
        "import matplotlib.pyplot as plt"
      ]
    },
    {
      "cell_type": "code",
      "source": [
        "from google.colab import drive\n",
        "drive.mount('/content/drive')"
      ],
      "metadata": {
        "id": "WFGyFa8y6w-M",
        "outputId": "3df38698-b677-4cd8-e5eb-fa67b12c6280",
        "colab": {
          "base_uri": "https://localhost:8080/"
        }
      },
      "execution_count": 23,
      "outputs": [
        {
          "output_type": "stream",
          "name": "stdout",
          "text": [
            "Drive already mounted at /content/drive; to attempt to forcibly remount, call drive.mount(\"/content/drive\", force_remount=True).\n"
          ]
        }
      ]
    },
    {
      "cell_type": "markdown",
      "metadata": {
        "id": "pFR7EuYYxm0Y"
      },
      "source": [
        "**1.1) Cargar 1 imagen**"
      ]
    },
    {
      "cell_type": "markdown",
      "metadata": {
        "id": "GLWLj4xWxm0Z"
      },
      "source": [
        "Ruta de la imagen capturada por una cámara CCTV"
      ]
    },
    {
      "cell_type": "code",
      "execution_count": 24,
      "metadata": {
        "id": "lDFktP0Cxm0a"
      },
      "outputs": [],
      "source": [
        "image_path = \"./data/cctv_image.jpg\"\n",
        "image = cv2.imread(image_path)"
      ]
    },
    {
      "cell_type": "code",
      "execution_count": 25,
      "metadata": {
        "id": "7RRX04GCxm0b",
        "outputId": "d4610712-2b6c-4da4-ecf3-7d5ed8713c9b",
        "colab": {
          "base_uri": "https://localhost:8080/"
        }
      },
      "outputs": [
        {
          "output_type": "stream",
          "name": "stdout",
          "text": [
            "Error: No se pudo cargar la imagen. Verifica la ruta.\n"
          ]
        }
      ],
      "source": [
        "# Verificar si la imagen se cargó correctamente\n",
        "if image is None:\n",
        "    print(\"Error: No se pudo cargar la imagen. Verifica la ruta.\")\n",
        "else:\n",
        "    # Convertir la imagen de BGR (formato OpenCV) a RGB (formato matplotlib)\n",
        "    image_rgb = cv2.cvtColor(image, cv2.COLOR_BGR2RGB)\n",
        "\n",
        "    # Mostrar la imagen usando matplotlib\n",
        "    plt.figure(figsize=(8, 6))\n",
        "    plt.imshow(image_rgb)\n",
        "    plt.title(\"Imagen Capturada por CCTV\")\n",
        "    plt.axis(\"off\")\n",
        "    plt.show()"
      ]
    },
    {
      "cell_type": "markdown",
      "metadata": {
        "id": "CL7SAAqMxm0f"
      },
      "source": [
        "**1.2) Captura y visualización de video en tiempo real**"
      ]
    },
    {
      "cell_type": "code",
      "execution_count": 26,
      "metadata": {
        "id": "l7PRghTQxm0g",
        "outputId": "13b58d85-2674-4158-e630-d30685c3fd14",
        "colab": {
          "base_uri": "https://localhost:8080/"
        }
      },
      "outputs": [
        {
          "output_type": "stream",
          "name": "stdout",
          "text": [
            "Error: No se pudo abrir la cámara.\n"
          ]
        }
      ],
      "source": [
        "# Abrir la cámara web\n",
        "cap = cv2.VideoCapture(1)\n",
        "\n",
        "if not cap.isOpened():\n",
        "    print(\"Error: No se pudo abrir la cámara.\")\n",
        "else:\n",
        "    while True:\n",
        "        # Capturar frame por frame\n",
        "        ret, frame = cap.read()\n",
        "        if not ret:\n",
        "            print(\"Error: No se pudo leer el frame.\")\n",
        "            break\n",
        "\n",
        "        # Mostrar el frame en una ventana llamada 'Frame de CCTV'\n",
        "        cv2.imshow(\"Frame de CCTV\", frame)\n",
        "\n",
        "        # Esperar 1 ms para detectar si se ha presionado la tecla 'q' para salir\n",
        "        if cv2.waitKey(1) & 0xFF == ord('q'):\n",
        "            break\n",
        "\n",
        "    # Liberar el objeto de captura y cerrar todas las ventanas\n",
        "    cap.release()\n",
        "    cv2.destroyAllWindows()"
      ]
    },
    {
      "cell_type": "markdown",
      "metadata": {
        "id": "w4IYYdKYxm0i"
      },
      "source": [
        "**1.3) Cargar un video**"
      ]
    },
    {
      "cell_type": "code",
      "execution_count": 27,
      "metadata": {
        "id": "FYZIynZIxm0j",
        "outputId": "9795907f-5ba8-48cc-a6ba-560b18806e7a",
        "colab": {
          "base_uri": "https://localhost:8080/"
        }
      },
      "outputs": [
        {
          "output_type": "stream",
          "name": "stdout",
          "text": [
            "Error: No se pudo abrir la cámara.\n"
          ]
        }
      ],
      "source": [
        "# Path video\n",
        "path_video = \"./data/store-aisle-detection.mp4\"\n",
        "\n",
        "# Cargar video\n",
        "cap = cv2.VideoCapture(path_video)\n",
        "\n",
        "if not cap.isOpened():\n",
        "    print(\"Error: No se pudo abrir la cámara.\")\n",
        "else:\n",
        "    while True:\n",
        "        # Capturar frame por frame\n",
        "        ret, frame = cap.read()\n",
        "        if not ret:\n",
        "            print(\"Error: No se pudo leer el frame.\")\n",
        "            break\n",
        "\n",
        "        # Mostrar el frame en una ventana llamada 'Frame de CCTV'\n",
        "        cv2.imshow(\"Frame de CCTV\", frame)\n",
        "\n",
        "        # Esperar 1 ms para detectar si se ha presionado la tecla 'q' para salir\n",
        "        if cv2.waitKey(1) & 0xFF == ord('q'):\n",
        "            break\n",
        "\n",
        "    # Liberar el objeto de captura y cerrar todas las ventanas\n",
        "    cap.release()\n",
        "    cv2.destroyAllWindows()"
      ]
    },
    {
      "cell_type": "markdown",
      "metadata": {
        "id": "XsAwMdxGxm0k"
      },
      "source": [
        "## 2) Técnicas de Mejora, Corrección y Anotación de Imágenes\n",
        "\n",
        "**Objetivo:**  \n",
        "Optimizar la calidad visual de las imágenes capturadas por cámaras de CCTV y aplicar anotaciones que faciliten la identificación de eventos críticos."
      ]
    },
    {
      "cell_type": "markdown",
      "metadata": {
        "id": "MU9orrBNxm0l"
      },
      "source": [
        "**2.1) Ajuste de brillo y contraste**"
      ]
    },
    {
      "cell_type": "code",
      "execution_count": 28,
      "metadata": {
        "id": "Rz0mo1Jbxm0m",
        "outputId": "230c4140-dd4e-4e41-e188-26bb3f009100",
        "colab": {
          "base_uri": "https://localhost:8080/"
        }
      },
      "outputs": [
        {
          "output_type": "stream",
          "name": "stdout",
          "text": [
            "Error: No se pudo cargar la imagen.\n"
          ]
        }
      ],
      "source": [
        "# Cargar la imagen de CCTV\n",
        "image_path = \"./data/cctv_image.jpg\"\n",
        "image = cv2.imread(image_path)\n",
        "if image is None:\n",
        "    print(\"Error: No se pudo cargar la imagen.\")\n",
        "    exit()\n",
        "\n",
        "# Ajuste de brillo y contraste: new_image = image * alpha + beta\n",
        "alpha = 1.2  # Factor de contraste (mayor a 1 aumenta contraste)\n",
        "beta = 30    # Valor de brillo (positivo aumenta el brillo)\n",
        "adjusted = cv2.convertScaleAbs(image, alpha=alpha, beta=beta)"
      ]
    },
    {
      "cell_type": "code",
      "execution_count": null,
      "metadata": {
        "id": "gqQkeq-mxm0n"
      },
      "outputs": [],
      "source": [
        "# Convertir la imagen de BGR (formato OpenCV) a RGB (formato matplotlib)\n",
        "adjusted = cv2.cvtColor(adjusted, cv2.COLOR_BGR2RGB)\n",
        "\n",
        "# Mostrar la imagen usando matplotlib\n",
        "plt.figure(figsize=(8, 6))\n",
        "plt.imshow(adjusted)\n",
        "plt.title(\"Imagen Capturada por CCTV con ajuste de brillo y contraste\")\n",
        "plt.axis(\"off\")\n",
        "plt.show()"
      ]
    },
    {
      "cell_type": "code",
      "execution_count": 2,
      "metadata": {
        "id": "2_pEVwwHxm0q",
        "outputId": "0d3e6d70-cb0e-4b4e-84f5-2b269efebbac",
        "colab": {
          "base_uri": "https://localhost:8080/",
          "height": 176
        }
      },
      "outputs": [
        {
          "output_type": "error",
          "ename": "NameError",
          "evalue": "name 'cv2' is not defined",
          "traceback": [
            "\u001b[0;31m---------------------------------------------------------------------------\u001b[0m",
            "\u001b[0;31mNameError\u001b[0m                                 Traceback (most recent call last)",
            "\u001b[0;32m/tmp/ipython-input-2-2284385058.py\u001b[0m in \u001b[0;36m<cell line: 0>\u001b[0;34m()\u001b[0m\n\u001b[1;32m      1\u001b[0m \u001b[0;31m# Guardar imagen para comparar\u001b[0m\u001b[0;34m\u001b[0m\u001b[0;34m\u001b[0m\u001b[0m\n\u001b[1;32m      2\u001b[0m \u001b[0moutput_file\u001b[0m \u001b[0;34m=\u001b[0m \u001b[0;34m\"./data/cctv_image_con_correcciones.jpg\"\u001b[0m\u001b[0;34m\u001b[0m\u001b[0;34m\u001b[0m\u001b[0m\n\u001b[0;32m----> 3\u001b[0;31m \u001b[0mcv2\u001b[0m\u001b[0;34m.\u001b[0m\u001b[0mimwrite\u001b[0m\u001b[0;34m(\u001b[0m\u001b[0moutput_file\u001b[0m\u001b[0;34m,\u001b[0m \u001b[0madjusted\u001b[0m\u001b[0;34m)\u001b[0m\u001b[0;34m\u001b[0m\u001b[0;34m\u001b[0m\u001b[0m\n\u001b[0m",
            "\u001b[0;31mNameError\u001b[0m: name 'cv2' is not defined"
          ]
        }
      ],
      "source": [
        "# Guardar imagen para comparar\n",
        "output_file = \"./data/cctv_image_con_correcciones.jpg\"\n",
        "cv2.imwrite(output_file, adjusted)"
      ]
    },
    {
      "cell_type": "markdown",
      "metadata": {
        "id": "d-CNnAxGxm0r"
      },
      "source": [
        "**2.2) Corrección de color y normalización**"
      ]
    },
    {
      "cell_type": "code",
      "execution_count": null,
      "metadata": {
        "id": "p9N2F5jCxm0r"
      },
      "outputs": [],
      "source": [
        "import numpy as np"
      ]
    },
    {
      "cell_type": "markdown",
      "metadata": {
        "id": "Bj32KglKxm0s"
      },
      "source": [
        "El espacio de color HSV (Hue, Saturation, Value) representa los colores según su matiz, saturación y valor.\n",
        "<br>Convertir una imagen a HSV facilita la manipulación de la saturación, permitiendo ajustar la intensidad o pureza de los colores sin afectar el brillo o el tono."
      ]
    },
    {
      "cell_type": "code",
      "execution_count": null,
      "metadata": {
        "id": "3MZmODIkxm0s"
      },
      "outputs": [],
      "source": [
        "# Convertir la imagen ajustada a espacio HSV para modificar la saturación\n",
        "hsv = cv2.cvtColor(adjusted, cv2.COLOR_BGR2HSV)"
      ]
    },
    {
      "cell_type": "code",
      "execution_count": null,
      "metadata": {
        "id": "ycwdaBQ7xm0t"
      },
      "outputs": [],
      "source": [
        "h, s, v = cv2.split(hsv)\n",
        "\n",
        "# Aumentar la saturación\n",
        "saturacion = 5\n",
        "\n",
        "s = cv2.multiply(s, saturacion)\n",
        "s = np.clip(s, 0, 255).astype(np.uint8)\n",
        "hsv_adjusted = cv2.merge([h, s, v])\n",
        "color_corrected = cv2.cvtColor(hsv_adjusted, cv2.COLOR_HSV2BGR)"
      ]
    },
    {
      "cell_type": "code",
      "execution_count": null,
      "metadata": {
        "id": "_45mwjxlxm0t"
      },
      "outputs": [],
      "source": [
        "# Mostrar la imagen usando matplotlib\n",
        "plt.figure(figsize=(8, 6))\n",
        "plt.imshow(color_corrected)\n",
        "plt.title(\"Imagen Capturada por CCTV con ajuste de saturación\")\n",
        "plt.axis(\"off\")\n",
        "plt.show()"
      ]
    },
    {
      "cell_type": "code",
      "execution_count": null,
      "metadata": {
        "id": "fVxLY_QRxm0u"
      },
      "outputs": [],
      "source": [
        "# Convertir la imagen de BGR (formato OpenCV) a RGB (formato matplotlib)\n",
        "color_corrected = cv2.cvtColor(color_corrected, cv2.COLOR_BGR2RGB)\n",
        "\n",
        "# Guardar imagen para comparar\n",
        "output_file = \"./data/cctv_image_con_ajuste_saturacion.jpg\"\n",
        "cv2.imwrite(output_file, color_corrected)"
      ]
    },
    {
      "cell_type": "markdown",
      "metadata": {
        "id": "LHHKQcmTxm0v"
      },
      "source": [
        "**2.3) Aplicación de anotaciones**"
      ]
    },
    {
      "cell_type": "code",
      "execution_count": null,
      "metadata": {
        "id": "bjBCCBBIxm0v"
      },
      "outputs": [],
      "source": [
        "# Hacer una copia de una imagen ya cargada\n",
        "annotated = image.copy()\n",
        "\n",
        "# Dibujar una línea: desde (150,250) hasta (350,250) en azul BGR: (255, 0, 0) con grosor de línea 3 píxeles\n",
        "cv2.line(annotated, (150, 250), (350, 250), (255, 0, 0), 3)\n",
        "# Dibujar un rectángulo: esquina superior izquierda (150, 300), inferior derecha (350,600) en verde BGR: (0, 255, 0)\n",
        "cv2.rectangle(annotated, (150, 300), (350, 600), (0, 255, 0), 3)\n",
        "# Escribir texto: 'Persona' en rojo BGR: (0, 0, 255), ubicado en (200,290)\n",
        "cv2.putText(annotated, 'Persona', (200, 290), cv2.FONT_HERSHEY_SIMPLEX, 1, (0, 0, 255), 2)"
      ]
    },
    {
      "cell_type": "code",
      "execution_count": null,
      "metadata": {
        "id": "SE0beB2Hxm0w"
      },
      "outputs": [],
      "source": [
        "# Convertir de BGR a RGB para visualizar con matplotlib\n",
        "image_rgb = cv2.cvtColor(image, cv2.COLOR_BGR2RGB)\n",
        "adjusted_rgb = adjusted\n",
        "color_corrected_rgb = cv2.cvtColor(color_corrected, cv2.COLOR_BGR2RGB)\n",
        "annotated_rgb = cv2.cvtColor(annotated, cv2.COLOR_BGR2RGB)\n",
        "\n",
        "plt.figure(figsize=(12, 8))\n",
        "plt.subplot(2, 2, 1)\n",
        "plt.imshow(image_rgb)\n",
        "plt.title(\"Imagen Original\")\n",
        "plt.axis(\"off\")\n",
        "\n",
        "plt.subplot(2, 2, 2)\n",
        "plt.imshow(adjusted_rgb)\n",
        "plt.title(\"Brillo y Contraste Ajustados\")\n",
        "plt.axis(\"off\")\n",
        "\n",
        "plt.subplot(2, 2, 3)\n",
        "plt.imshow(color_corrected_rgb)\n",
        "plt.title(\"Corrección de Color (Saturación)\")\n",
        "plt.axis(\"off\")\n",
        "\n",
        "plt.subplot(2, 2, 4)\n",
        "plt.imshow(annotated_rgb)\n",
        "plt.title(\"Imagen Anotada\")\n",
        "plt.axis(\"off\")\n",
        "\n",
        "plt.tight_layout()\n",
        "plt.show()"
      ]
    }
  ],
  "metadata": {
    "kernelspec": {
      "display_name": "Python 3",
      "language": "python",
      "name": "python3"
    },
    "language_info": {
      "codemirror_mode": {
        "name": "ipython",
        "version": 3
      },
      "file_extension": ".py",
      "mimetype": "text/x-python",
      "name": "python",
      "nbconvert_exporter": "python",
      "pygments_lexer": "ipython3",
      "version": "3.10.0"
    },
    "colab": {
      "provenance": []
    }
  },
  "nbformat": 4,
  "nbformat_minor": 0
}